{
 "cells": [
  {
   "cell_type": "markdown",
   "id": "6b95faae-c418-4578-a7d7-e5d89c66054c",
   "metadata": {},
   "source": [
    "---\n",
    "<div align=\"center\">\n",
    "\n",
    "# ML2 | Urban Sound Classification\n",
    "</div>\n",
    "\n",
    "---"
   ]
  },
  {
   "cell_type": "markdown",
   "id": "94eecdf8-b585-4a18-ad51-3f9e49aa9f4e",
   "metadata": {},
   "source": [
    "---\n",
    "## Problem Formulation\n",
    "---\n",
    "\n",
    "> ADD PROBLEM FORMULATION\n",
    "\n",
    "\n",
    "For each of the chosen classifier, the implementation will need to consider the following steps:\n",
    "1. Data pre-processing and preparation\n",
    "2. Model architecture definition\n",
    "3. Training strategies\n",
    "4. Performance evaluation."
   ]
  },
  {
   "cell_type": "markdown",
   "id": "3b4b938c-cb8e-47f2-90a6-f17650f15b21",
   "metadata": {},
   "source": [
    "---\n",
    "## Project Dependencies\n",
    "---"
   ]
  },
  {
   "cell_type": "code",
   "execution_count": 2,
   "id": "1414e781-4bd0-4779-a814-43130ff8c2ae",
   "metadata": {},
   "outputs": [],
   "source": [
    "%load_ext autoreload\n",
    "%autoreload 2"
   ]
  },
  {
   "cell_type": "code",
   "execution_count": 3,
   "id": "e8f90829-942a-4bfb-a224-f4b1e17a5642",
   "metadata": {},
   "outputs": [],
   "source": [
    "# Remove Warnings\n",
    "import warnings\n",
    "warnings.filterwarnings('ignore')"
   ]
  },
  {
   "cell_type": "code",
   "execution_count": 1,
   "id": "88b40c21-5f92-47b7-9802-740873f802c8",
   "metadata": {},
   "outputs": [],
   "source": [
    "import tensorflow as tf"
   ]
  },
  {
   "cell_type": "markdown",
   "id": "3cb4e5db-534f-469d-990b-ba59d7519a45",
   "metadata": {},
   "source": [
    "---\n",
    "## Data Pre-Processing and Preparation\n",
    "---\n",
    "\n",
    "> PERFORM DATA PREPROCESSIGN AND PREPARATION"
   ]
  },
  {
   "cell_type": "code",
   "execution_count": 4,
   "id": "fe69060b-8559-4277-b836-440daa0d03b9",
   "metadata": {},
   "outputs": [],
   "source": [
    "# CODE HERE"
   ]
  },
  {
   "cell_type": "markdown",
   "id": "47b64e5f-ef28-4c5c-99d1-69532484094d",
   "metadata": {},
   "source": [
    "---\n",
    "## Model Architecture Definition\n",
    "---\n",
    "\n",
    "> ADD MODEL ARCHITECTURE DEFINITION"
   ]
  },
  {
   "cell_type": "code",
   "execution_count": 5,
   "id": "cb277042-a48b-4ce3-8090-2373d7cf68b3",
   "metadata": {},
   "outputs": [],
   "source": [
    "# CODE HERE"
   ]
  },
  {
   "cell_type": "markdown",
   "id": "78fb0a16-9f4d-4abe-a519-9eb20834d206",
   "metadata": {},
   "source": [
    "---\n",
    "## Training Strategies\n",
    "---\n",
    "\n",
    "> ADD TRAINING STRATEGIES"
   ]
  },
  {
   "cell_type": "code",
   "execution_count": 6,
   "id": "b7796440-4cd3-4c26-b9e6-db59abffd51c",
   "metadata": {},
   "outputs": [],
   "source": [
    "# CODE HERE"
   ]
  },
  {
   "cell_type": "markdown",
   "id": "612bfe9b-5050-4a4b-a637-d9a8e5b58cc3",
   "metadata": {},
   "source": [
    "---\n",
    "## Performance Evaluation\n",
    "---\n",
    "> ADD PERFORMANCE EVALUATION"
   ]
  },
  {
   "cell_type": "code",
   "execution_count": 7,
   "id": "d8b5ddf7-9def-40ff-b104-7eda417dabbb",
   "metadata": {},
   "outputs": [],
   "source": [
    "# CODE HERE"
   ]
  },
  {
   "cell_type": "markdown",
   "id": "1420fb22-2e8c-492b-bc97-a3afd4b1ba66",
   "metadata": {},
   "source": [
    "<div align=\"center\">\n",
    "\n",
    "***\n",
    "## Bibliographic References\n",
    "***\n",
    "</div>\n",
    "\n",
    "1. AUTHOR (DATE OF PUBLICATION). __*ARTICLE TITLE*__. Available [here](__INSERT_LINK__)"
   ]
  },
  {
   "cell_type": "markdown",
   "id": "3cf67cbf-0fbc-4703-a08c-171f87422dd2",
   "metadata": {},
   "source": [
    "---\n",
    "## Final Considerations\n",
    "\n",
    "$\\quad$ If there is any difficulty on downloading or executing this project, please contact us via:\n",
    "\n",
    "- **Email**:\n",
    "    - [Gonçalo Esteves](https://github.com/EstevesX10) &#8594; `up202203947@edu.fc.up.pt`\n",
    "    - [Nuno Gomes](https://github.com/NightF0x26) &#8594; `up202206195@edu.fc.up.pt`\n",
    "    - [Pedro Afonseca](https://github.com/PsuperX) &#8594; `up202205394@edu.fc.up.pt`"
   ]
  }
 ],
 "metadata": {
  "kernelspec": {
   "display_name": "Python 3 (ipykernel)",
   "language": "python",
   "name": "python3"
  },
  "language_info": {
   "codemirror_mode": {
    "name": "ipython",
    "version": 3
   },
   "file_extension": ".py",
   "mimetype": "text/x-python",
   "name": "python",
   "nbconvert_exporter": "python",
   "pygments_lexer": "ipython3",
   "version": "3.8.20"
  }
 },
 "nbformat": 4,
 "nbformat_minor": 5
}
