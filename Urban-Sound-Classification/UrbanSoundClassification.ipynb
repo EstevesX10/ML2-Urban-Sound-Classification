{
 "cells": [
  {
   "cell_type": "markdown",
   "id": "6b95faae-c418-4578-a7d7-e5d89c66054c",
   "metadata": {},
   "source": [
    "---\n",
    "<div align=\"center\">\n",
    "\n",
    "# ML2 | Urban Sound Classification\n",
    "</div>\n",
    "\n",
    "---"
   ]
  },
  {
   "cell_type": "markdown",
   "id": "94eecdf8-b585-4a18-ad51-3f9e49aa9f4e",
   "metadata": {},
   "source": [
    "---\n",
    "## Problem Formulation\n",
    "---\n",
    "\n",
    "> ADD PROBLEM FORMULATION\n",
    "\n",
    "\n",
    "For each of the chosen classifier, the implementation will need to consider the following steps:\n",
    "1. Data pre-processing and preparation\n",
    "2. Model architecture definition\n",
    "3. Training strategies\n",
    "4. Performance evaluation."
   ]
  },
  {
   "cell_type": "code",
   "execution_count": 1,
   "id": "989c3ea3-c7eb-41f8-8e9a-336a4430168d",
   "metadata": {},
   "outputs": [],
   "source": [
    "# Remove ipykernel\n",
    "# !jupyter kernelspec uninstall tf -y"
   ]
  },
  {
   "cell_type": "code",
   "execution_count": 2,
   "id": "d8c06bc2-a269-4a9a-85fd-2a3f8138d5f8",
   "metadata": {
    "scrolled": true
   },
   "outputs": [],
   "source": [
    "# Add ipykernel\n",
    "# !python -m ipykernel install --name \"tensorflowKernel\""
   ]
  },
  {
   "cell_type": "markdown",
   "id": "3b4b938c-cb8e-47f2-90a6-f17650f15b21",
   "metadata": {},
   "source": [
    "---\n",
    "## Project Dependencies\n",
    "---"
   ]
  },
  {
   "cell_type": "code",
   "execution_count": 3,
   "id": "a5904536-c53d-4d8c-b17b-b843b6c7734d",
   "metadata": {
    "editable": true,
    "slideshow": {
     "slide_type": ""
    },
    "tags": []
   },
   "outputs": [
    {
     "name": "stdout",
     "output_type": "stream",
     "text": [
      "Name: tensorflow\n",
      "Version: 2.17.0\n",
      "Summary: TensorFlow is an open source machine learning framework for everyone.\n",
      "Home-page: https://www.tensorflow.org/\n",
      "Author: Google Inc.\n",
      "Author-email: packages@tensorflow.org\n",
      "License: Apache 2.0\n",
      "Location: c:\\users\\gongas\\anaconda3\\envs\\tensorflow\\lib\\site-packages\n",
      "Requires: tensorflow-intel\n",
      "Required-by: \n"
     ]
    }
   ],
   "source": [
    "!pip show tensorflow"
   ]
  },
  {
   "cell_type": "code",
   "execution_count": 4,
   "id": "1414e781-4bd0-4779-a814-43130ff8c2ae",
   "metadata": {},
   "outputs": [],
   "source": [
    "%load_ext autoreload\n",
    "%autoreload 2"
   ]
  },
  {
   "cell_type": "code",
   "execution_count": 5,
   "id": "e8f90829-942a-4bfb-a224-f4b1e17a5642",
   "metadata": {},
   "outputs": [],
   "source": [
    "# Remove Warnings\n",
    "import warnings\n",
    "warnings.filterwarnings('ignore')"
   ]
  },
  {
   "cell_type": "code",
   "execution_count": 6,
   "id": "1d0ab8c9-4b31-495f-81ca-5ca07923ea05",
   "metadata": {},
   "outputs": [],
   "source": [
    "import tensorflow as tf\n",
    "from tensorflow.keras import layers, models\n",
    "import numpy as np\n",
    "import pandas as pd"
   ]
  },
  {
   "cell_type": "code",
   "execution_count": 7,
   "id": "18bcd7e8-216b-47a5-b10a-59ed50650e83",
   "metadata": {
    "scrolled": true
   },
   "outputs": [
    {
     "name": "stdout",
     "output_type": "stream",
     "text": [
      "C:\\Users\\Gongas\\anaconda3\\envs\\Tensorflow\\python.exe\n"
     ]
    }
   ],
   "source": [
    "import sys\n",
    "print(sys.executable)"
   ]
  },
  {
   "cell_type": "code",
   "execution_count": 8,
   "id": "4c37d7bf-4b91-4d02-b256-9575e220ab29",
   "metadata": {},
   "outputs": [
    {
     "name": "stdout",
     "output_type": "stream",
     "text": [
      "Epoch 1/5\n",
      "\u001b[1m1875/1875\u001b[0m \u001b[32m━━━━━━━━━━━━━━━━━━━━\u001b[0m\u001b[37m\u001b[0m \u001b[1m6s\u001b[0m 3ms/step - accuracy: 0.8588 - loss: 0.4819\n",
      "Epoch 2/5\n",
      "\u001b[1m1875/1875\u001b[0m \u001b[32m━━━━━━━━━━━━━━━━━━━━\u001b[0m\u001b[37m\u001b[0m \u001b[1m5s\u001b[0m 3ms/step - accuracy: 0.9573 - loss: 0.1474\n",
      "Epoch 3/5\n",
      "\u001b[1m1875/1875\u001b[0m \u001b[32m━━━━━━━━━━━━━━━━━━━━\u001b[0m\u001b[37m\u001b[0m \u001b[1m5s\u001b[0m 3ms/step - accuracy: 0.9654 - loss: 0.1107\n",
      "Epoch 4/5\n",
      "\u001b[1m1875/1875\u001b[0m \u001b[32m━━━━━━━━━━━━━━━━━━━━\u001b[0m\u001b[37m\u001b[0m \u001b[1m6s\u001b[0m 3ms/step - accuracy: 0.9740 - loss: 0.0881\n",
      "Epoch 5/5\n",
      "\u001b[1m1875/1875\u001b[0m \u001b[32m━━━━━━━━━━━━━━━━━━━━\u001b[0m\u001b[37m\u001b[0m \u001b[1m5s\u001b[0m 3ms/step - accuracy: 0.9763 - loss: 0.0743\n",
      "\u001b[1m313/313\u001b[0m \u001b[32m━━━━━━━━━━━━━━━━━━━━\u001b[0m\u001b[37m\u001b[0m \u001b[1m1s\u001b[0m 2ms/step - accuracy: 0.9729 - loss: 0.0898\n",
      "Test accuracy: 0.9775000214576721\n"
     ]
    }
   ],
   "source": [
    "# Load and preprocess the dataset\n",
    "mnist = tf.keras.datasets.mnist\n",
    "(x_train, y_train), (x_test, y_test) = mnist.load_data()\n",
    "x_train, x_test = x_train / 255.0, x_test / 255.0\n",
    "\n",
    "# Build the model\n",
    "model = models.Sequential([\n",
    "    layers.Flatten(input_shape=(28, 28)),\n",
    "    layers.Dense(128, activation='relu'),\n",
    "    layers.Dropout(0.2),\n",
    "    layers.Dense(10, activation='softmax')\n",
    "])\n",
    "\n",
    "# Compile the model\n",
    "model.compile(optimizer='adam',\n",
    "              loss='sparse_categorical_crossentropy',\n",
    "              metrics=['accuracy'])\n",
    "\n",
    "# Train the model\n",
    "model.fit(x_train, y_train, epochs=5)\n",
    "\n",
    "# Evaluate the model\n",
    "test_loss, test_acc = model.evaluate(x_test, y_test)\n",
    "print(f'Test accuracy: {test_acc}')"
   ]
  },
  {
   "cell_type": "markdown",
   "id": "3cb4e5db-534f-469d-990b-ba59d7519a45",
   "metadata": {},
   "source": [
    "---\n",
    "## Initial Data Assessment\n",
    "---\n",
    "\n",
    "> PLAY AROUND WITH THE DATA"
   ]
  },
  {
   "cell_type": "markdown",
   "id": "6c9d0d27-6f5e-483d-a28f-1fc0edbe6578",
   "metadata": {},
   "source": [
    "---\n",
    "## Data Pre-Processing and Preparation\n",
    "---\n",
    "\n",
    "> PERFORM DATA PREPROCESSIGN AND PREPARATION"
   ]
  },
  {
   "cell_type": "code",
   "execution_count": 4,
   "id": "fe69060b-8559-4277-b836-440daa0d03b9",
   "metadata": {},
   "outputs": [],
   "source": [
    "# CODE HERE"
   ]
  },
  {
   "cell_type": "markdown",
   "id": "47b64e5f-ef28-4c5c-99d1-69532484094d",
   "metadata": {},
   "source": [
    "---\n",
    "## Model Architecture Definition\n",
    "---\n",
    "\n",
    "> ADD MODEL ARCHITECTURE DEFINITION"
   ]
  },
  {
   "cell_type": "code",
   "execution_count": 5,
   "id": "cb277042-a48b-4ce3-8090-2373d7cf68b3",
   "metadata": {},
   "outputs": [],
   "source": [
    "# CODE HERE"
   ]
  },
  {
   "cell_type": "markdown",
   "id": "78fb0a16-9f4d-4abe-a519-9eb20834d206",
   "metadata": {},
   "source": [
    "---\n",
    "## Training Strategies\n",
    "---\n",
    "\n",
    "> ADD TRAINING STRATEGIES"
   ]
  },
  {
   "cell_type": "code",
   "execution_count": 6,
   "id": "b7796440-4cd3-4c26-b9e6-db59abffd51c",
   "metadata": {},
   "outputs": [],
   "source": [
    "# CODE HERE"
   ]
  },
  {
   "cell_type": "markdown",
   "id": "612bfe9b-5050-4a4b-a637-d9a8e5b58cc3",
   "metadata": {},
   "source": [
    "---\n",
    "## Performance Evaluation\n",
    "---\n",
    "> ADD PERFORMANCE EVALUATION"
   ]
  },
  {
   "cell_type": "code",
   "execution_count": 7,
   "id": "d8b5ddf7-9def-40ff-b104-7eda417dabbb",
   "metadata": {},
   "outputs": [],
   "source": [
    "# CODE HERE"
   ]
  },
  {
   "cell_type": "markdown",
   "id": "1420fb22-2e8c-492b-bc97-a3afd4b1ba66",
   "metadata": {},
   "source": [
    "<div align=\"center\">\n",
    "\n",
    "***\n",
    "## Bibliographic References\n",
    "***\n",
    "</div>\n",
    "\n",
    "1. AUTHOR (DATE OF PUBLICATION). __*ARTICLE TITLE*__. Available [here](__INSERT_LINK__)"
   ]
  },
  {
   "cell_type": "markdown",
   "id": "3cf67cbf-0fbc-4703-a08c-171f87422dd2",
   "metadata": {},
   "source": [
    "---\n",
    "## Final Considerations\n",
    "\n",
    "$\\quad$ If there is any difficulty on downloading or executing this project, please contact us via:\n",
    "\n",
    "- **Email**:\n",
    "    - [Gonçalo Esteves](https://github.com/EstevesX10) &#8594; `up202203947@edu.fc.up.pt`\n",
    "    - [Nuno Gomes](https://github.com/NightF0x26) &#8594; `up202206195@edu.fc.up.pt`\n",
    "    - [Pedro Afonseca](https://github.com/PsuperX) &#8594; `up202205394@edu.fc.up.pt`"
   ]
  }
 ],
 "metadata": {
  "kernelspec": {
   "display_name": "tensorflowKernel",
   "language": "python",
   "name": "tensorflowkernel"
  },
  "language_info": {
   "codemirror_mode": {
    "name": "ipython",
    "version": 3
   },
   "file_extension": ".py",
   "mimetype": "text/x-python",
   "name": "python",
   "nbconvert_exporter": "python",
   "pygments_lexer": "ipython3",
   "version": "3.10.12"
  }
 },
 "nbformat": 4,
 "nbformat_minor": 5
}
